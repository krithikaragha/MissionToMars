{
 "cells": [
  {
   "cell_type": "markdown",
   "metadata": {},
   "source": [
    "# Mission To Mars"
   ]
  },
  {
   "cell_type": "code",
   "execution_count": 1,
   "metadata": {},
   "outputs": [],
   "source": [
    "# Import Dependencies\n",
    "import os\n",
    "import requests\n",
    "import pandas as pd\n",
    "from bs4 import BeautifulSoup as bs\n",
    "from splinter import Browser"
   ]
  },
  {
   "cell_type": "code",
   "execution_count": 2,
   "metadata": {},
   "outputs": [],
   "source": [
    "# URL of the page to be scraped\n",
    "url = 'https://mars.nasa.gov/news/'\n",
    "\n",
    "# Retrieve page with the requests module\n",
    "response = requests.get(url)\n",
    "\n",
    "# Create BeautifulSoup object; parse with 'lxml'\n",
    "soup = bs(response.text, 'lxml')"
   ]
  },
  {
   "cell_type": "markdown",
   "metadata": {},
   "source": [
    "### NASA Mars News"
   ]
  },
  {
   "cell_type": "code",
   "execution_count": 3,
   "metadata": {},
   "outputs": [
    {
     "name": "stdout",
     "output_type": "stream",
     "text": [
      "News Title:  NASA Garners 7 Webby Award Nominations\n",
      "Paragraph Text:  \n",
      "Nominees include four JPL projects: the solar system and climate websites, InSight social media, and a 360-degree Earth video. Public voting closes April 18, 2019.\n",
      "\n"
     ]
    }
   ],
   "source": [
    "# Retrieve the latest News Title and Paragraph Text\n",
    "news_title = soup.find('div', class_='content_title').text.strip()\n",
    "\n",
    "news_p = soup.find('div', class_='rollover_description_inner').text\n",
    "\n",
    "print(\"News Title: \", news_title)\n",
    "\n",
    "print(\"Paragraph Text: \", news_p)"
   ]
  },
  {
   "cell_type": "markdown",
   "metadata": {},
   "source": [
    "### JPL Mars Space Images - Featured Image"
   ]
  },
  {
   "cell_type": "code",
   "execution_count": 4,
   "metadata": {},
   "outputs": [
    {
     "name": "stdout",
     "output_type": "stream",
     "text": [
      "Featured Image URL:  https://www.jpl.nasa.gov/spaceimages/images/mediumsize/PIA16105_ip.jpg\n"
     ]
    }
   ],
   "source": [
    "executable_path = {'executable_path': './chromedriver.exe'}\n",
    "browser = Browser('chrome', **executable_path, headless=False)\n",
    "\n",
    "url = 'https://www.jpl.nasa.gov/spaceimages/?search=&category=Mars'\n",
    "browser.visit(url)\n",
    "\n",
    "html = browser.html\n",
    "soup = bs(html, 'html.parser')\n",
    "\n",
    "base_url = 'https://www.jpl.nasa.gov'\n",
    "\n",
    "img_url = soup.find(\"a\", {\"class\":\"button fancybox\"})['data-fancybox-href']\n",
    "\n",
    "featured_img_url = base_url + img_url\n",
    "print(\"Featured Image URL: \", featured_img_url)"
   ]
  },
  {
   "cell_type": "markdown",
   "metadata": {},
   "source": [
    "### Mars Weather"
   ]
  },
  {
   "cell_type": "code",
   "execution_count": 5,
   "metadata": {},
   "outputs": [
    {
     "name": "stdout",
     "output_type": "stream",
     "text": [
      "Mars Weather:  InSight sol 130 (2019-04-08) low -98.0ºC (-144.4ºF) high -15.5ºC (4.1ºF)\n",
      "winds from the SW at 4.1 m/s (9.3 mph) gusting to 11.7 m/s (26.2 mph)\n",
      "pressure at 7.30 hPapic.twitter.com/awJfx8w2YE\n"
     ]
    }
   ],
   "source": [
    "# URL of the page to be scraped\n",
    "url = 'https://twitter.com/marswxreport?lang=en'\n",
    "\n",
    "# Retrieve page with the requests module\n",
    "response = requests.get(url)\n",
    "\n",
    "# Create BeautifulSoup object; parse with 'lxml'\n",
    "soup = bs(response.text, 'lxml')\n",
    "\n",
    "# Retrieve the parent HTML tag\n",
    "li_tags = soup.findAll('li', class_='js-stream-item stream-item stream-item')\n",
    "\n",
    "div_content = li_tags[1].find('div', class_='content')\n",
    "div_tweet = div_content.find('div', class_='js-tweet-text-container')\n",
    "mars_weather = div_tweet.find('p', class_='TweetTextSize TweetTextSize--normal js-tweet-text tweet-text').text\n",
    "\n",
    "print(\"Mars Weather: \", mars_weather)"
   ]
  },
  {
   "cell_type": "markdown",
   "metadata": {},
   "source": [
    "### Mars Facts"
   ]
  },
  {
   "cell_type": "code",
   "execution_count": 6,
   "metadata": {},
   "outputs": [
    {
     "data": {
      "text/plain": [
       "[                      0                              1\n",
       " 0  Equatorial Diameter:                       6,792 km\n",
       " 1       Polar Diameter:                       6,752 km\n",
       " 2                 Mass:  6.42 x 10^23 kg (10.7% Earth)\n",
       " 3                Moons:            2 (Phobos & Deimos)\n",
       " 4       Orbit Distance:       227,943,824 km (1.52 AU)\n",
       " 5         Orbit Period:           687 days (1.9 years)\n",
       " 6  Surface Temperature:                  -153 to 20 °C\n",
       " 7         First Record:              2nd millennium BC\n",
       " 8          Recorded By:           Egyptian astronomers]"
      ]
     },
     "execution_count": 6,
     "metadata": {},
     "output_type": "execute_result"
    }
   ],
   "source": [
    "# URL of the page to be scraped\n",
    "url = 'http://space-facts.com/mars/'\n",
    "\n",
    "# Scrape the table containing facts about Mars\n",
    "tables = pd.read_html(url , encoding= \"utf-8\")\n",
    "tables"
   ]
  },
  {
   "cell_type": "code",
   "execution_count": 7,
   "metadata": {},
   "outputs": [
    {
     "data": {
      "text/html": [
       "<div>\n",
       "<style scoped>\n",
       "    .dataframe tbody tr th:only-of-type {\n",
       "        vertical-align: middle;\n",
       "    }\n",
       "\n",
       "    .dataframe tbody tr th {\n",
       "        vertical-align: top;\n",
       "    }\n",
       "\n",
       "    .dataframe thead th {\n",
       "        text-align: right;\n",
       "    }\n",
       "</style>\n",
       "<table border=\"1\" class=\"dataframe\">\n",
       "  <thead>\n",
       "    <tr style=\"text-align: right;\">\n",
       "      <th></th>\n",
       "      <th>Equatorial Diameter</th>\n",
       "      <th>Polar Diameter</th>\n",
       "      <th>Mass</th>\n",
       "      <th>Moons</th>\n",
       "      <th>Orbital Distance</th>\n",
       "      <th>Orbital Period</th>\n",
       "      <th>Surface Temperature</th>\n",
       "      <th>First Record</th>\n",
       "      <th>Recorded By</th>\n",
       "    </tr>\n",
       "  </thead>\n",
       "  <tbody>\n",
       "    <tr>\n",
       "      <th>1</th>\n",
       "      <td>6,792 km</td>\n",
       "      <td>6,752 km</td>\n",
       "      <td>6.42 x 10^23 kg (10.7% Earth)</td>\n",
       "      <td>2 (Phobos &amp; Deimos)</td>\n",
       "      <td>227,943,824 km (1.52 AU)</td>\n",
       "      <td>687 days (1.9 years)</td>\n",
       "      <td>-153 to 20 °C</td>\n",
       "      <td>2nd millennium BC</td>\n",
       "      <td>Egyptian astronomers</td>\n",
       "    </tr>\n",
       "  </tbody>\n",
       "</table>\n",
       "</div>"
      ],
      "text/plain": [
       "  Equatorial Diameter Polar Diameter                           Mass  \\\n",
       "1            6,792 km       6,752 km  6.42 x 10^23 kg (10.7% Earth)   \n",
       "\n",
       "                 Moons          Orbital Distance        Orbital Period  \\\n",
       "1  2 (Phobos & Deimos)  227,943,824 km (1.52 AU)  687 days (1.9 years)   \n",
       "\n",
       "  Surface Temperature       First Record           Recorded By  \n",
       "1       -153 to 20 °C  2nd millennium BC  Egyptian astronomers  "
      ]
     },
     "execution_count": 7,
     "metadata": {},
     "output_type": "execute_result"
    }
   ],
   "source": [
    "# Create a dataframe from the table\n",
    "df = tables[0]\n",
    "df = df.T\n",
    "df = df.iloc[1:]\n",
    "df.columns = ['Equatorial Diameter', 'Polar Diameter', 'Mass', 'Moons', \n",
    "              'Orbital Distance', 'Orbital Period', 'Surface Temperature', \n",
    "              'First Record', 'Recorded By']\n",
    "df"
   ]
  },
  {
   "cell_type": "code",
   "execution_count": 8,
   "metadata": {},
   "outputs": [
    {
     "data": {
      "text/plain": [
       "'<table border=\"1\" class=\"dataframe\">\\n  <thead>\\n    <tr style=\"text-align: right;\">\\n      <th></th>\\n      <th>Equatorial Diameter</th>\\n      <th>Polar Diameter</th>\\n      <th>Mass</th>\\n      <th>Moons</th>\\n      <th>Orbital Distance</th>\\n      <th>Orbital Period</th>\\n      <th>Surface Temperature</th>\\n      <th>First Record</th>\\n      <th>Recorded By</th>\\n    </tr>\\n  </thead>\\n  <tbody>\\n    <tr>\\n      <th>1</th>\\n      <td>6,792 km</td>\\n      <td>6,752 km</td>\\n      <td>6.42 x 10^23 kg (10.7% Earth)</td>\\n      <td>2 (Phobos &amp; Deimos)</td>\\n      <td>227,943,824 km (1.52 AU)</td>\\n      <td>687 days (1.9 years)</td>\\n      <td>-153 to 20 °C</td>\\n      <td>2nd millennium BC</td>\\n      <td>Egyptian astronomers</td>\\n    </tr>\\n  </tbody>\\n</table>'"
      ]
     },
     "execution_count": 8,
     "metadata": {},
     "output_type": "execute_result"
    }
   ],
   "source": [
    "# Convert pandas dataframe to HTML table string\n",
    "html_table = df.to_html()\n",
    "html_table"
   ]
  },
  {
   "cell_type": "markdown",
   "metadata": {},
   "source": [
    "### Mars Hemispheres"
   ]
  },
  {
   "cell_type": "code",
   "execution_count": 9,
   "metadata": {},
   "outputs": [
    {
     "name": "stdout",
     "output_type": "stream",
     "text": [
      "{'title': 'Cerberus Hemisphere Enhanced', 'img_url': 'https://astrogeology.usgs.gov/cache/images/cfa62af2557222a02478f1fcd781d445_cerberus_enhanced.tif_full.jpg'}\n",
      "{'title': 'Schiaparelli Hemisphere Enhanced', 'img_url': 'https://astrogeology.usgs.gov/cache/images/3cdd1cbf5e0813bba925c9030d13b62e_schiaparelli_enhanced.tif_full.jpg'}\n",
      "{'title': 'Syrtis Major Hemisphere Enhanced', 'img_url': 'https://astrogeology.usgs.gov/cache/images/ae209b4e408bb6c3e67b6af38168cf28_syrtis_major_enhanced.tif_full.jpg'}\n",
      "{'title': 'Valles Marineris Hemisphere Enhanced', 'img_url': 'https://astrogeology.usgs.gov/cache/images/7cf2da4bf549ed01c17f206327be4db7_valles_marineris_enhanced.tif_full.jpg'}\n"
     ]
    }
   ],
   "source": [
    "# URL of the page to be scraped\n",
    "url = 'https://astrogeology.usgs.gov/search/results?q=hemisphere+enhanced&k1=target&v1=Mars'\n",
    "\n",
    "# Retrieve page with the requests module\n",
    "response = requests.get(url)\n",
    "\n",
    "# Create BeautifulSoup object; parse with 'lxml'\n",
    "soup = bs(response.text, 'lxml')\n",
    "\n",
    "# Retrieve the parent tag containing all hemispheres\n",
    "links = []       # List to store the links to be visited\n",
    "hemisphere_img_urls = []    # List to store the dictionaries for each hemisphere\n",
    "\n",
    "base_url = \"https://astrogeology.usgs.gov\"\n",
    "\n",
    "div_result = soup.find('div', class_='result-list')\n",
    "div_items = div_result.findAll('div', class_='item')\n",
    "\n",
    "for div_item in div_items:\n",
    "    hemisphere = {}\n",
    "    div_content = div_item.find('div', class_='description')\n",
    "    \n",
    "    title = div_content.find('h3').text\n",
    "    hemisphere['title'] = title\n",
    "    \n",
    "    href = div_item.find('a', {\"class\":\"itemLink product-item\"})['href']\n",
    "    links.append(base_url + href)\n",
    "\n",
    "    for link in links:\n",
    "        response = requests.get(link)\n",
    "        soup = bs(response.text, 'lxml')\n",
    "\n",
    "        img_src = soup.find(\"img\", {\"class\":\"wide-image\"})['src']\n",
    "        img_url = base_url + img_src\n",
    "        hemisphere['img_url'] = img_url\n",
    "        \n",
    "    hemisphere_img_urls.append(hemisphere)\n",
    "        \n",
    "for item in hemisphere_img_urls:\n",
    "    print(item)"
   ]
  }
 ],
 "metadata": {
  "kernelspec": {
   "display_name": "Python 3",
   "language": "python",
   "name": "python3"
  },
  "language_info": {
   "codemirror_mode": {
    "name": "ipython",
    "version": 3
   },
   "file_extension": ".py",
   "mimetype": "text/x-python",
   "name": "python",
   "nbconvert_exporter": "python",
   "pygments_lexer": "ipython3",
   "version": "3.7.2"
  }
 },
 "nbformat": 4,
 "nbformat_minor": 2
}
